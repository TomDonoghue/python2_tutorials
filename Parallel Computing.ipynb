{
 "cells": [
  {
   "cell_type": "markdown",
   "metadata": {},
   "source": [
    "<h1> Threading / MultiProcessing in Python </h1>"
   ]
  },
  {
   "cell_type": "markdown",
   "metadata": {},
   "source": [
    "Quick Overview:\n",
    "- Thread: A set instructions that can be managed independently by a scheduler. Exist in the same namespace. \n",
    "- Threading: launches one or many thread(s), in the same namespace. \n",
    "    - Threading is useful for I/O tasks\n",
    "- Process: An instance of a program that is being executed. Has it's own namespace. \n",
    "- Multiprocessing: launches one or many new process(es), each with it's own namespace. \n",
    "    - MultiProcessing is useful for CPU bound tasks\n",
    "    \n",
    "Note that Python has a 'Global Interpreter Lock (GIL)' which synchronizes threads and enforces that only one thread can execute at a time. This means that multiple threads don't actually run across cores in parallel. This is why a task for which CPU is limiting factor, threading won't really help. But for I/O tasks it can help, as the CPU can still process other threads if a particular thread is waiting on I/O operations.\n",
    "\n",
    "Module Docs:\n",
    "- MultiProcessing: https://docs.python.org/2/library/multiprocessing.html\n",
    "- Threading: https://docs.python.org/2/library/threading.html\n",
    "\n",
    "Relevant overviews of parallel computing for Python:\n",
    "- http://sebastianraschka.com/Articles/2014_multiprocessing_intro.html\n",
    "- http://chriskiehl.com/article/parallelism-in-one-line/\n",
    "\n",
    "Notes on differences:\n",
    "- http://blogs.datalogics.com/2013/09/25/threads-vs-processes-for-program-parallelization/\n",
    "- http://stackoverflow.com/questions/3044580/multiprocessing-vs-threading-python\n",
    "\n",
    "Notes: \n",
    "- Here I do not do extensive timing tests to figure out if, when, and how much speed is actually provided by these methods. \n",
    "- If you are looking for a quick and easy way to get going with parallelization, the pool/map approach in 'multiprocessing' is probably best/easiest"
   ]
  },
  {
   "cell_type": "code",
   "execution_count": 1,
   "metadata": {
    "collapsed": true
   },
   "outputs": [],
   "source": [
    "# Python Multi-Threading / Multiprocessing\n",
    "import thread             # A basic module allowing for writing multi-threads\n",
    "import threading          # A more powerful module for multi-threading\n",
    "import multiprocessing    # A module for multiprocessing\n",
    "import time               # A module for using time"
   ]
  },
  {
   "cell_type": "code",
   "execution_count": 2,
   "metadata": {
    "collapsed": false
   },
   "outputs": [
    {
     "name": "stdout",
     "output_type": "stream",
     "text": [
      "I have this many cores: 4\n"
     ]
    }
   ],
   "source": [
    "# Q: How many cores do I have?\n",
    "print 'I have this many cores:', multiprocessing.cpu_count()"
   ]
  },
  {
   "cell_type": "markdown",
   "metadata": {},
   "source": [
    "<h3> Thread Module </h3>\n",
    "\n",
    "'Thread' is a basic module for using threads. \n",
    "\n",
    "It's simple to use a thread, but has less capabilities than threading. \n",
    "\n",
    "Logic: Use 'start_new_thread' to open a new thread, which takes a function as it's first parameter and a tuple of arguments for that function as it's second argument. This process opens a new thread, and launches the given function with the given arguments. "
   ]
  },
  {
   "cell_type": "code",
   "execution_count": 4,
   "metadata": {
    "collapsed": true
   },
   "outputs": [],
   "source": [
    "# Define a test function to pass to threads.\n",
    "def test_function(num, thread_name):\n",
    "    time.sleep(num)\n",
    "    print 'Finished', thread_name"
   ]
  },
  {
   "cell_type": "code",
   "execution_count": 4,
   "metadata": {
    "collapsed": false
   },
   "outputs": [
    {
     "data": {
      "text/plain": [
       "123145329688576"
      ]
     },
     "execution_count": 4,
     "metadata": {},
     "output_type": "execute_result"
    }
   ],
   "source": [
    "# Launch a couple threads\n",
    "thread.start_new_thread(test_function, (2,'Thread_1'))\n",
    "thread.start_new_thread(test_function, (5, 'Thread_2'))"
   ]
  },
  {
   "cell_type": "markdown",
   "metadata": {},
   "source": [
    "<h3> Threading Module </h3>\n",
    "\n",
    "'Threading' is another module for using threads, with more capabilities (but also more overhead). \n",
    "\n",
    "Logic: The core of 'Threading' is the thread class, which is used to define thread objects, that you then get to do your bidding. \n",
    "- First, define a subclass of the Thread class to set up threads that will do what you want them to do\n",
    "    - Do this by overriding the run method\n",
    "- Now, you can initialize and run threads that will do your custom jobs\n",
    "    - Note that initializing a thread does NOT start it running\n",
    "\n",
    "Notes:\n",
    "- Using 'lock' is a way to enforce synchronization between threads\n",
    "- The Queue module allows for Queue and organizing threads\n",
    "\n",
    "Example adapted from:\n",
    "http://www.tutorialspoint.com/python/python_multithreading.htm"
   ]
  },
  {
   "cell_type": "code",
   "execution_count": 5,
   "metadata": {
    "collapsed": false
   },
   "outputs": [],
   "source": [
    "# Define a function to use for Threading example\n",
    "def print_time(name, delay, counter):\n",
    "    while counter:\n",
    "        time.sleep(delay)\n",
    "        print \"%s: %s\" % (name, time.ctime(time.time()))\n",
    "        counter -= 1"
   ]
  },
  {
   "cell_type": "code",
   "execution_count": 6,
   "metadata": {
    "collapsed": false
   },
   "outputs": [],
   "source": [
    "# Define a subclass of the thread class that implements threads set up as you want them\n",
    "\n",
    "class myThread (threading.Thread):\n",
    "    \n",
    "    # Initialize the thread, with ID, name and counter\n",
    "    # Note that parameters can be based when initializing the thread to be used in functions called in 'run'.\n",
    "    #  Basically: parameters are passed when initializing, not when running the thread.\n",
    "    # ^ In this case, for example, the 'delay' parameter.\n",
    "    def __init__(self, threadID, name, delay):\n",
    "        threading.Thread.__init__(self)\n",
    "        self.threadID = threadID\n",
    "        self.name = name\n",
    "        self.delay = delay\n",
    "        \n",
    "    # Overide the run method to describe custom behaviour for your thread\n",
    "    # In this case, each thread prints start & end, and runs the 'print_time' function. \n",
    "    def run(self):\n",
    "        print \"Starting \" + self.name + \". \"\n",
    "        \n",
    "        # Do something (this can be anything)\n",
    "        print_time(self.name, self.delay, 3)\n",
    "        \n",
    "        print \"Ending \" + self.name + \". \""
   ]
  },
  {
   "cell_type": "code",
   "execution_count": 7,
   "metadata": {
    "collapsed": false
   },
   "outputs": [],
   "source": [
    "# Initialize threads - create new threads, providing parameters you requre based on __init__\n",
    "#   ^ In this case, an ID number, a name, and a delay time. \n",
    "# Initializing threads does not automatically run them. \n",
    "thread1 = myThread(1, \"John\", 1  )\n",
    "thread2 = myThread(2, \"Paul\", 1.5)"
   ]
  },
  {
   "cell_type": "code",
   "execution_count": 8,
   "metadata": {
    "collapsed": false
   },
   "outputs": [
    {
     "name": "stdout",
     "output_type": "stream",
     "text": [
      "Starting John. \n",
      "Starting Paul. \n"
     ]
    }
   ],
   "source": [
    "# Start (run) threads. They will automatically terminate when the 'run' method ends. \n",
    "thread1.start()\n",
    "thread2.start()"
   ]
  },
  {
   "cell_type": "code",
   "execution_count": 9,
   "metadata": {
    "collapsed": false
   },
   "outputs": [
    {
     "name": "stdout",
     "output_type": "stream",
     "text": [
      "John: Sun May 22 12:56:57 2016\n",
      "Finished Thread_1\n",
      "George: Sun May 22 12:56:57 2016\n",
      "Paul: Sun May 22 12:56:58 2016\n",
      "John: Sun May 22 12:56:58 2016\n",
      "George: Sun May 22 12:56:58 2016\n",
      "Paul: Sun May 22 12:56:59 2016\n",
      "John: Sun May 22 12:56:59 2016\n",
      "Ending John. \n",
      "George: Sun May 22 12:56:59 2016\n",
      "Finished Thread_2\n",
      "Paul: Sun May 22 12:57:01 2016\n",
      "Ending Paul. \n",
      "Ringo: Sun May 22 12:57:01 2016\n",
      "Ringo: Sun May 22 12:57:02 2016\n",
      "Ringo: Sun May 22 12:57:04 2016\n"
     ]
    }
   ],
   "source": [
    "# Notice above that the output is intermixed, indicating they were running at the same time. \n",
    "# This is different than if you run them sequentially, in which case the second \n",
    "\n",
    "print_time('George', 1  , 3)\n",
    "print_time('Ringo' , 1.5, 3)\n",
    "\n",
    "# Launches a new thread also doesn't pause the main thread proceeding.\n",
    "# So if you launch this cell and the previous together, then you'll see what looks like them all running concurrently. \n",
    "# ^ Actually, with 3 threads (2 extras, and 1 main), three can run at once, so Ringo still has to wait for George. "
   ]
  },
  {
   "cell_type": "code",
   "execution_count": 10,
   "metadata": {
    "collapsed": true
   },
   "outputs": [],
   "source": [
    "# As done above, it's a bit haphazard what finishes when. \n",
    "# To gain control over scheduling, organizing, you can use 'Lock' from the Threading module. \n",
    "\n",
    "# This creates a threadLock object that can be used to synchronize / organize scheduling\n",
    "threadLock = threading.Lock()\n",
    "\n",
    "# This sets a block, which can block a thread and force them to wait for the lock to be released. \n",
    "threadLock.acquire()\n",
    "\n",
    "# This releases the block, allowing a thread to proceed. \n",
    "threadLock.release()\n",
    "\n",
    "# Note that Threads can also be used with Queues"
   ]
  },
  {
   "cell_type": "code",
   "execution_count": 11,
   "metadata": {
    "collapsed": false
   },
   "outputs": [
    {
     "name": "stdout",
     "output_type": "stream",
     "text": [
      "Active Count: \n",
      "5 \n",
      "\n",
      "Current Thread: \n",
      "<_MainThread(MainThread, started 140735299985408)> \n",
      "\n",
      "Enumerate: \n",
      "[<_MainThread(MainThread, started 140735299985408)>, <Thread(Thread-2, started daemon 123145307582464)>, <HistorySavingThread(IPythonHistorySavingThread, started 123145317068800)>, <Heartbeat(Thread-3, started daemon 123145311789056)>, <ParentPollerUnix(Thread-1, started daemon 123145321275392)>] \n",
      "\n",
      "Is Alive: \n",
      "False\n"
     ]
    }
   ],
   "source": [
    "# Threading also has a number of HouseKeeping Functions to keep track of threads\n",
    "\n",
    "# 'Active_count' checks and returns the number of thread objects currently alive\n",
    "print \"Active Count: \\n\", threading.active_count(), \"\\n\"\n",
    "\n",
    "# 'currentThread' checks and returns the name of the current thread. \n",
    "print \"Current Thread: \\n\", threading.currentThread(), \"\\n\"\n",
    "\n",
    "# 'Enumerate' prints a list of all current threads\n",
    "print \"Enumerate: \\n\", threading.enumerate(), \"\\n\"\n",
    "\n",
    "# Call on a specific Thread to check if it is active\n",
    "print \"Is Alive: \\n\", thread1.isAlive()"
   ]
  },
  {
   "cell_type": "markdown",
   "metadata": {},
   "source": [
    "<h3> MultiProcessing Module </h3>\n",
    "\n",
    "MultiProcessing is similar in usage to Threading, but by spawning processes instead of threads, it sidesteps the GLI, offering real parallel computing across multiple cores. \n",
    "Basically: Useful if CPU is the bottleneck, and independent processes can be split across cores. \n",
    "\n",
    "Logic: \n",
    "- Initiliaze a new process (or Pool of processes), passing in functions to do and arguments to use\n",
    "- Run the process\n",
    "- Organize / keep track of processes with Pools, Queues and using map\n",
    "\n",
    "Example from:\n",
    "- http://stackoverflow.com/questions/21031372/python-multiprocessing-troubleshooting"
   ]
  },
  {
   "cell_type": "code",
   "execution_count": 6,
   "metadata": {
    "collapsed": false
   },
   "outputs": [
    {
     "name": "stdout",
     "output_type": "stream",
     "text": [
      "Test: Mon Jul  4 14:53:57 2016\n"
     ]
    }
   ],
   "source": [
    "# Similar to Threading, you can launch, and then run new processes\n",
    "\n",
    "# Initialize a new process. This does not start the process running. \n",
    "#  For processes, the function & arguments to be run by the process are passed in at initialization. \n",
    "#  'args' must be a tuple. (Even if only one argument - for example: args=('lonely_argument',) )\n",
    "test_process = multiprocessing.Process(target=print_time, args=('Test', 1.5, 3))\n",
    "\n",
    "# Start the process. \n",
    "test_process.start()\n",
    "\n",
    "# Like a new thread, a new process does not interupt the flow of the main program. "
   ]
  },
  {
   "cell_type": "code",
   "execution_count": 7,
   "metadata": {
    "collapsed": false
   },
   "outputs": [
    {
     "name": "stdout",
     "output_type": "stream",
     "text": [
      "Name:  Process-1\n",
      "Active:  True\n"
     ]
    }
   ],
   "source": [
    "# Like Threading, there are Housekeeping functions to keep track of what's what. \n",
    "\n",
    "# Check the name of a process\n",
    "print \"Name: \", test_process.name\n",
    "\n",
    "# Check if a process is active\n",
    "print \"Active: \", test_process.is_alive()"
   ]
  },
  {
   "cell_type": "code",
   "execution_count": 8,
   "metadata": {
    "collapsed": true
   },
   "outputs": [],
   "source": [
    "# Since each process exists in it's own namespace, if there is output expected, you have to set up a way to collect it\n",
    "# One way to do so is to set up a Queue, which is basically a list-like object that is used to collect things\n",
    "\n",
    "# Queue sets up a queue object that processes can send their outputs to\n",
    "q = multiprocessing.Queue()"
   ]
  },
  {
   "cell_type": "code",
   "execution_count": 9,
   "metadata": {
    "collapsed": true
   },
   "outputs": [],
   "source": [
    "# To use a Queue, set up a function such that instead of returning a variable, it sends it to the Queueu object\n",
    "\n",
    "# Test Function. Does a sum between given numbers and puts the answer on the Queue. \n",
    "def sum_queue(a, b):\n",
    "    su = 0\n",
    "    for i in range(a, b):\n",
    "        su+=i\n",
    "    q.put(su)"
   ]
  },
  {
   "cell_type": "code",
   "execution_count": 10,
   "metadata": {
    "collapsed": true
   },
   "outputs": [],
   "source": [
    "# Set up some processes\n",
    "p1 = multiprocessing.Process(target=sum_queue, args=(1      , 1*10**6))\n",
    "p2 = multiprocessing.Process(target=sum_queue, args=(1*10**6, 1*10**7))"
   ]
  },
  {
   "cell_type": "code",
   "execution_count": 11,
   "metadata": {
    "collapsed": false
   },
   "outputs": [],
   "source": [
    "# Run the processes\n",
    "p1.start()\n",
    "p2.start()"
   ]
  },
  {
   "cell_type": "code",
   "execution_count": 12,
   "metadata": {
    "collapsed": false
   },
   "outputs": [
    {
     "name": "stdout",
     "output_type": "stream",
     "text": [
      "499999500000 49499995500000 49999995000000\n"
     ]
    }
   ],
   "source": [
    "# When the processes are done, we can now get the results from the queue\n",
    "r1 = q.get()\n",
    "r2 = q.get()\n",
    "print r1, r2, r1+r2"
   ]
  },
  {
   "cell_type": "code",
   "execution_count": 13,
   "metadata": {
    "collapsed": false
   },
   "outputs": [
    {
     "data": {
      "text/plain": [
       "True"
      ]
     },
     "execution_count": 13,
     "metadata": {},
     "output_type": "execute_result"
    }
   ],
   "source": [
    "# Note that Queue.get() retrieves and removes an item from the Queue\n",
    "# Queue, in default mode, is First In, First Out (FIFO)\n",
    "q.empty()"
   ]
  },
  {
   "cell_type": "markdown",
   "metadata": {},
   "source": [
    "### Using Pool\n",
    "\n",
    "Another way to use multiprocessing is to use 'Pool'. \n",
    "\n",
    "Instead of having to manage many individual processes, Pool lets you set up a group of processes. "
   ]
  },
  {
   "cell_type": "code",
   "execution_count": 14,
   "metadata": {
    "collapsed": true
   },
   "outputs": [],
   "source": [
    "# Test function. Same sum function as above, except it returns instead of sending to Queue. \n",
    "def sum_return(vec):\n",
    "    su = 0\n",
    "    for i in range(vec[0], vec[1]):\n",
    "        su += i\n",
    "    return su"
   ]
  },
  {
   "cell_type": "code",
   "execution_count": 18,
   "metadata": {
    "collapsed": false
   },
   "outputs": [
    {
     "name": "stdout",
     "output_type": "stream",
     "text": [
      "[499999500000, 49499995500000]\n"
     ]
    }
   ],
   "source": [
    "# Start a pool with 2 worker processes\n",
    "pool = multiprocessing.Pool(processes=2)\n",
    "\n",
    "# Map is a function to match the pool of processes with a list of jobs\n",
    "results = pool.map(sum_return, [[1, 1*10**6], [1*10**6, 1*10**7]])\n",
    "\n",
    "# Check the results\n",
    "print results"
   ]
  },
  {
   "cell_type": "code",
   "execution_count": 19,
   "metadata": {
    "collapsed": true
   },
   "outputs": [],
   "source": [
    "# Another example function - for testing.\n",
    "def f(x):\n",
    "    return x*x, x*x*x"
   ]
  },
  {
   "cell_type": "code",
   "execution_count": 22,
   "metadata": {
    "collapsed": false
   },
   "outputs": [
    {
     "name": "stdout",
     "output_type": "stream",
     "text": [
      "[(0, 0), (1, 1), (4, 8), (9, 27), (16, 64), (25, 125), (36, 216), (49, 343), (64, 512), (81, 729)]\n"
     ]
    }
   ],
   "source": [
    "# You can set a pool with as many processes as you want. \n",
    "pool2 = multiprocessing.Pool(processes=4)\n",
    "\n",
    "# The number of arguments you pass in does not have to match the number of processes you have. \n",
    "# The outputs from pool will be a list where each item in the list is the outputs from the function you mapped in. \n",
    "results = pool2.map(f, range(20000))\n",
    "\n",
    "# There are also functions you can call on your pool to for control flow. \n",
    "# 'close' prevents any more tasks from being submitted to the pool. Once finished, the worker processes will exit. \n",
    "pool2.close()\n",
    "\n",
    "# 'join' waits for the worker processes to exit (pauses the main program). \n",
    "# ^ Must call 'close' or 'terminate' before join. 'terminate' stops workers immediately and quits. \n",
    "pool2.join()\n",
    "\n",
    "# Check results\n",
    "print results[0:10]"
   ]
  },
  {
   "cell_type": "code",
   "execution_count": 21,
   "metadata": {
    "collapsed": true
   },
   "outputs": [],
   "source": [
    "# Example function - can be used for testing. \n",
    "def fib(n):\n",
    "    if((n==1) or (n==2)):\n",
    "        return 1\n",
    "    return((fib(n-1) + fib(n-2)))"
   ]
  },
  {
   "cell_type": "code",
   "execution_count": null,
   "metadata": {
    "collapsed": true
   },
   "outputs": [],
   "source": []
  }
 ],
 "metadata": {
  "kernelspec": {
   "display_name": "Python 2",
   "language": "python",
   "name": "python2"
  },
  "language_info": {
   "codemirror_mode": {
    "name": "ipython",
    "version": 2
   },
   "file_extension": ".py",
   "mimetype": "text/x-python",
   "name": "python",
   "nbconvert_exporter": "python",
   "pygments_lexer": "ipython2",
   "version": "2.7.11"
  }
 },
 "nbformat": 4,
 "nbformat_minor": 0
}
