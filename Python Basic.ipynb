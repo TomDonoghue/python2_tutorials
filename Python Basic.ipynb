{
 "cells": [
  {
   "cell_type": "markdown",
   "metadata": {},
   "source": [
    "# Intro to Python - Basic"
   ]
  },
  {
   "cell_type": "markdown",
   "metadata": {},
   "source": [
    "This is a quick overview of some of the basic features of Python (specifically Python 2.7).\n",
    "\n",
    "There are many good resources for learning python, and you should check them out if you want more information. \n",
    "- The official Python Website:          https://www.python.org\n",
    "- Offical Tutorial / Beginners Guide:   https://wiki.python.org/moin/BeginnersGuide\n",
    "- Learn Python the Hard Way:            http://learnpythonthehardway.org\n",
    "- Codecademy:                           https://www.codecademy.com/tracks/python\n",
    "\n",
    "Python has an official style guide, called Pep-8. This is how you should write python!\n",
    "- Official Style Guide:                 https://www.python.org/dev/peps/pep-0008/\n",
    "\n",
    "iPython Notebook is \n",
    "- iPython Notebook Website:             https://ipython.org\n",
    "- iPython Notebook Tutorial:            https://ipython.org/ipython-doc/dev/interactive/tutorial.html"
   ]
  },
  {
   "cell_type": "code",
   "execution_count": 2,
   "metadata": {
    "collapsed": false
   },
   "outputs": [],
   "source": [
    "## iPython Notebook magic commands!\n",
    "# iPython notebooks have what it calls 'magic commands', which are predefined functions you can run \n",
    "# The syntax is like running in a shell, and looks like'% command args'\n",
    "\n",
    "# To access some documentation about magic commands from within iPython, use '% quickref'\n",
    "% quickref"
   ]
  },
  {
   "cell_type": "code",
   "execution_count": 1,
   "metadata": {
    "collapsed": false
   },
   "outputs": [
    {
     "name": "stdout",
     "output_type": "stream",
     "text": [
      "/Users/thomasdonoghue\n"
     ]
    }
   ],
   "source": [
    "## Python, whether run from a terminal or in iPython is always running in some directory\n",
    "# iPython defaults to launching in your user home directory\n",
    "# The cd (current directory) command is one of the magic commands, and will print out the current directory. \n",
    "% cd"
   ]
  },
  {
   "cell_type": "code",
   "execution_count": 3,
   "metadata": {
    "collapsed": false
   },
   "outputs": [],
   "source": [
    "## Help in iPython\n",
    "# Another one of the magic commmands is the help command. \n",
    "# This is used by adding a question mark ('?') to end of a function name. \n",
    "# For example: (See if you can now use the round function)\n",
    "round?"
   ]
  },
  {
   "cell_type": "code",
   "execution_count": 4,
   "metadata": {
    "collapsed": false
   },
   "outputs": [
    {
     "name": "stdout",
     "output_type": "stream",
     "text": [
      "<type 'int'>\n",
      "<type 'float'>\n",
      "<type 'str'>\n",
      "<type 'bool'>\n"
     ]
    }
   ],
   "source": [
    "## Python Types - Basic\n",
    "# Python (like Matlab) is also a non-explicitly typed language. \n",
    "# You can use the type() function to check the type of a variable\n",
    "int_number = 1                 # The integer type is for number without a decimal place (positive or negative)\n",
    "float_number = 1.0             # The float type is for numbers \n",
    "string = 'Hello!'              # The string type is for characters\n",
    "boolean = True                 # Booleans are for True or False\n",
    "\n",
    "print type(int_number)\n",
    "print type(float_number)\n",
    "print type(string)\n",
    "print type(boolean)"
   ]
  },
  {
   "cell_type": "code",
   "execution_count": 1,
   "metadata": {
    "collapsed": false
   },
   "outputs": [
    {
     "name": "stdout",
     "output_type": "stream",
     "text": [
      "2\n",
      "2.5\n"
     ]
    }
   ],
   "source": [
    "# Notice that integers and decimals numbers (floats) are different kinds of variables\n",
    "# Be careful with this, they act differently!\n",
    "# Note: this is actually specific to Python 2.7, if you use 3.X, division works differently. \n",
    "print 10/4\n",
    "print 10.0/4"
   ]
  },
  {
   "cell_type": "code",
   "execution_count": 6,
   "metadata": {
    "collapsed": false
   },
   "outputs": [
    {
     "name": "stdout",
     "output_type": "stream",
     "text": [
      "1.0\n",
      "1\n",
      "1\n"
     ]
    }
   ],
   "source": [
    "# You can also cast variable (force them to be a certain type)\n",
    "cast_float = float(int_number)       # Cast a integer into a float\n",
    "print cast_float\n",
    "cast_int = int(float_number)         # Cast a float into an integer\n",
    "print cast_int\n",
    "cast_boolean = int(boolean)          # Cast a boolean into an integer (remember: False=0, True=1)\n",
    "print cast_boolean"
   ]
  },
  {
   "cell_type": "code",
   "execution_count": 8,
   "metadata": {
    "collapsed": false
   },
   "outputs": [
    {
     "name": "stdout",
     "output_type": "stream",
     "text": [
      "<type 'list'>\n",
      "List item:  Banana\n",
      "<type 'tuple'>\n",
      "Tuple item:  Banana\n",
      "<type 'dict'>\n",
      "Dictionary element:  2\n",
      "Dictionary Keys:  ['theta', 'alpha', 'beta', 'gamma', 'delta']\n"
     ]
    }
   ],
   "source": [
    "## Other python types\n",
    "# Lists - a list is a mutable list of things, which can be of mixed types\n",
    "# Lists use square brackes\n",
    "list_of_stuff = [1, 6.4, 'Banana', True, 6.]\n",
    "print type(list_of_stuff)\n",
    "print 'List item: ', list_of_stuff[2]\n",
    "\n",
    "# Tuple - a tuple is set of unmutable things, which can be of mixed types\n",
    "# Tuples use parentheses\n",
    "tuple_of_stuff = (1, 6.4, 'Banana', True, 6.)\n",
    "print type(tuple_of_stuff)\n",
    "print 'Tuple item: ', tuple_of_stuff[2]\n",
    "\n",
    "# Dictionary - a dictionary is a set of things, indexed and accessed by keys\n",
    "dictionary_of_stuff = {'delta': 2, 'theta': 6, 'alpha': 8, 'beta': 13, 'gamma': 25}\n",
    "print type(dictionary_of_stuff)\n",
    "# Things in a dictionary are accessed by their key\n",
    "print 'Dictionary element: ', dictionary_of_stuff['delta']\n",
    "# To check the keys of a dict, run the 'keys()' function on a dict, like so:\n",
    "print 'Dictionary Keys: ', dictionary_of_stuff.keys()\n",
    "\n",
    "## NOTES\n",
    "# Note that these data types are all created with different characters ('()', '[]', '{}')\n",
    "# However, they are all called (accessed) with square brackets '[]'\n",
    "# Tuples are immutable. Try re-assigning an index in an already defined tuple. "
   ]
  },
  {
   "cell_type": "code",
   "execution_count": 13,
   "metadata": {
    "collapsed": false
   },
   "outputs": [
    {
     "data": {
      "text/plain": [
       "['__class__',\n",
       " '__cmp__',\n",
       " '__contains__',\n",
       " '__delattr__',\n",
       " '__delitem__',\n",
       " '__doc__',\n",
       " '__eq__',\n",
       " '__format__',\n",
       " '__ge__',\n",
       " '__getattribute__',\n",
       " '__getitem__',\n",
       " '__gt__',\n",
       " '__hash__',\n",
       " '__init__',\n",
       " '__iter__',\n",
       " '__le__',\n",
       " '__len__',\n",
       " '__lt__',\n",
       " '__ne__',\n",
       " '__new__',\n",
       " '__reduce__',\n",
       " '__reduce_ex__',\n",
       " '__repr__',\n",
       " '__setattr__',\n",
       " '__setitem__',\n",
       " '__sizeof__',\n",
       " '__str__',\n",
       " '__subclasshook__',\n",
       " 'clear',\n",
       " 'copy',\n",
       " 'fromkeys',\n",
       " 'get',\n",
       " 'has_key',\n",
       " 'items',\n",
       " 'iteritems',\n",
       " 'iterkeys',\n",
       " 'itervalues',\n",
       " 'keys',\n",
       " 'pop',\n",
       " 'popitem',\n",
       " 'setdefault',\n",
       " 'update',\n",
       " 'values',\n",
       " 'viewitems',\n",
       " 'viewkeys',\n",
       " 'viewvalues']"
      ]
     },
     "execution_count": 13,
     "metadata": {},
     "output_type": "execute_result"
    }
   ],
   "source": [
    "## Dir function\n",
    "# The dir function does lots of useful things. Check out the help. Called without an argument, it prints out names in scope. \n",
    "dir?\n",
    "\n",
    "# Notice above that we called a function directly on our dictionary.\n",
    "# Types and objects (well get to those later) have functions that can be called on them. \n",
    "# Dir with an argument, prints out the attributes & functions of the given object/function/variable\n",
    "dir(dictionary_of_stuff)"
   ]
  },
  {
   "cell_type": "markdown",
   "metadata": {},
   "source": [
    "Note that Python is a whitespace language. Spacing matters, and is used to delineate sections of code\n",
    "Unlike matlab, there is no 'end' statement for sections of code. \n",
    "The end of a block of code is marked by the spacing. Lines of code inside a block are tabbed. \n",
    "To open a block of code (in a conditional, loop, function etc.) us the colon (':')"
   ]
  },
  {
   "cell_type": "code",
   "execution_count": 14,
   "metadata": {
    "collapsed": false
   },
   "outputs": [
    {
     "name": "stdout",
     "output_type": "stream",
     "text": [
      "X is Big!\n"
     ]
    }
   ],
   "source": [
    "## Conditionals\n",
    "# Python has an if, elif, else conditional block\n",
    "\n",
    "x = 5\n",
    "if (x > 4):\n",
    "    print 'X is Big!'\n",
    "elif (x < 4):\n",
    "    print 'X is Small!'\n",
    "else:\n",
    "    print 'I don\\'t know what is going on'"
   ]
  },
  {
   "cell_type": "code",
   "execution_count": 15,
   "metadata": {
    "collapsed": false
   },
   "outputs": [
    {
     "name": "stdout",
     "output_type": "stream",
     "text": [
      "0\n",
      "1\n",
      "2\n",
      "3\n",
      "\n",
      "\n",
      "V1\n",
      "V2\n",
      "V3\n",
      "V4\n",
      "\n",
      "\n",
      "1\n",
      "2\n",
      "3\n",
      "4\n"
     ]
    }
   ],
   "source": [
    "## Loops\n",
    "# Python has a for loop and while loop\n",
    "\n",
    "# You can use a loop by running through a list of numbers\n",
    "for x in range(0, 4):\n",
    "    print x\n",
    "\n",
    "print '\\n'        # The '\\' is an escape character in a string. Here, '\\n' prints a new line.\n",
    "    \n",
    "# You can also loop through all the indexes in a variable (for example, loop through a list)    \n",
    "v = ['V1', 'V2', 'V3', 'V4']\n",
    "for i in v:\n",
    "    print i\n",
    "\n",
    "print '\\n'\n",
    "    \n",
    "# The while loop uses a conditional, and will run until it is False\n",
    "y = 1\n",
    "while y < 5:\n",
    "    print y\n",
    "    y += 1         # This is shorthand for 'y = y + 1'"
   ]
  },
  {
   "cell_type": "code",
   "execution_count": 51,
   "metadata": {
    "collapsed": false
   },
   "outputs": [
    {
     "name": "stdout",
     "output_type": "stream",
     "text": [
      "9\n"
     ]
    }
   ],
   "source": [
    "## Functions\n",
    "\n",
    "# Example of how functions are set up\n",
    "#\n",
    "# def function_name(input1, input2, ...):\n",
    "#     \"\"\" Docstring - this describes the function\"\"\"\n",
    "#     'code that does stuff'\n",
    "#     return variable_to_return\n",
    "\n",
    "# Example with a real function\n",
    "# \n",
    "def add(a, b):\n",
    "    \"\"\" This function adds two numbers, and returns the result\"\"\"\n",
    "    out = a+b\n",
    "    return out\n",
    "\n",
    "sum_of_numbers = add(4, 5)\n",
    "print sum_of_numbers"
   ]
  }
 ],
 "metadata": {
  "kernelspec": {
   "display_name": "Python 2",
   "language": "python",
   "name": "python2"
  },
  "language_info": {
   "codemirror_mode": {
    "name": "ipython",
    "version": 2
   },
   "file_extension": ".py",
   "mimetype": "text/x-python",
   "name": "python",
   "nbconvert_exporter": "python",
   "pygments_lexer": "ipython2",
   "version": "2.7.11"
  }
 },
 "nbformat": 4,
 "nbformat_minor": 0
}
