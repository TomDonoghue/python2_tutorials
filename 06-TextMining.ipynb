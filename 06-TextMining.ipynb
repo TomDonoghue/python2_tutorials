{
 "cells": [
  {
   "cell_type": "markdown",
   "metadata": {},
   "source": [
    "# Text Mining With Python"
   ]
  },
  {
   "cell_type": "markdown",
   "metadata": {},
   "source": [
    "Quick introduction to text mining with Python, specifically nltk. \n",
    "\n",
    "nltk is the 'Natural Language ToolKit', and is the biggest text-analysis package in Python: http://www.nltk.org\n",
    "\n",
    "nltk is huge. It doesn't have a quick tutorial, instead it comes with a book. Seriously: http://www.nltk.org/book/\n",
    "\n",
    "Needless to say, this is merely a brief outline of some text-mining functionality, and you should head to the official documentation for a fuller description. \n",
    "\n",
    "The full functionality of nltk goes beyond just installing the package, it includes a GUI (a graphical interface to do things) and a lot of data and tools, such as lists of words you might want to exclude from your corpus. \n",
    "Once you install the package, you will need to download extra things to use certain parts of the toolbox. \n",
    "\n",
    "Here, I am going to follow along with a couple examples covered in the book, so you can download 'book' and have everything you need for this notebook, and if anything is confusing, you can look for more explanation in the book. \n",
    "\n",
    "Why would we want to do text analysis / mining in Data Science? Applications include:\n",
    "- Sentiment Analysis\n",
    "- Spam Filters\n",
    "- Measuring Similarity of Texts\n",
    "- Categorizing Documents\n",
    "- Phase Extraction\n",
    "- Automatic Summaries of Texts\n",
    "- Word/Phrase Frequency Analysis\n",
    "- Examining Language Trends over Time"
   ]
  },
  {
   "cell_type": "code",
   "execution_count": 48,
   "metadata": {
    "collapsed": false
   },
   "outputs": [
    {
     "name": "stdout",
     "output_type": "stream",
     "text": [
      "Populating the interactive namespace from numpy and matplotlib\n"
     ]
    }
   ],
   "source": [
    "# Import nltk\n",
    "import nltk\n",
    "\n",
    "# Add pylab\n",
    "% pylab inline"
   ]
  },
  {
   "cell_type": "code",
   "execution_count": 6,
   "metadata": {
    "collapsed": false
   },
   "outputs": [
    {
     "name": "stdout",
     "output_type": "stream",
     "text": [
      "showing info http://nltk.github.com/nltk_data/\n"
     ]
    },
    {
     "data": {
      "text/plain": [
       "True"
      ]
     },
     "execution_count": 6,
     "metadata": {},
     "output_type": "execute_result"
    }
   ],
   "source": [
    "# The full functionality of nltk requires extra downloads.\n",
    "# The first chapter of the nltk covers this if this notebook doesn't provide enough info: http://www.nltk.org/book/ch01.html\n",
    "\n",
    "# This command launches a pop-up from which you can download the extra things that come with nltk\n",
    "# Here, I am going to follow along with some of the examples from the book, so you can start with clicking on and downloading\n",
    "# the part called 'book' in the pop-up window. \n",
    "# You should only need to do this once. \n",
    "nltk.download()"
   ]
  },
  {
   "cell_type": "code",
   "execution_count": 2,
   "metadata": {
    "collapsed": false
   },
   "outputs": [
    {
     "name": "stdout",
     "output_type": "stream",
     "text": [
      "*** Introductory Examples for the NLTK Book ***\n",
      "Loading text1, ..., text9 and sent1, ..., sent9\n",
      "Type the name of the text or sentence to view it.\n",
      "Type: 'texts()' or 'sents()' to list the materials.\n",
      "text1: Moby Dick by Herman Melville 1851\n",
      "text2: Sense and Sensibility by Jane Austen 1811\n",
      "text3: The Book of Genesis\n",
      "text4: Inaugural Address Corpus\n",
      "text5: Chat Corpus\n",
      "text6: Monty Python and the Holy Grail\n",
      "text7: Wall Street Journal\n",
      "text8: Personals Corpus\n",
      "text9: The Man Who Was Thursday by G . K . Chesterton 1908\n"
     ]
    }
   ],
   "source": [
    "# Now that we've downloaded the stuff from the book, we want to load it. \n",
    "# Let's import everything from the book.\n",
    "from nltk.book import *\n",
    "\n",
    "# Note that 'from x import *' reads like 'from package x, import everything' and is considered bad practice in general. \n",
    "# The problem is that importing all functions blindly like this increases the risk for name conflicts, which is when two things\n",
    "# (for example two functions) have the same name which confuses Python, as it doesn't know which one to use. \n",
    "# We are going to ignore this for now - but keep it in mind for how you go about importing packages. \n",
    "\n",
    "# This will load a whole bunch of example texts from the book that we can experiment with. "
   ]
  },
  {
   "cell_type": "code",
   "execution_count": 3,
   "metadata": {
    "collapsed": false
   },
   "outputs": [],
   "source": [
    "# Before we jump into things from the book, let's look at some simple examples of the kinds of things we might \n",
    "# want to do with nltk.\n",
    "\n",
    "# Let's start with a practice sentence.\n",
    "sentences = 'Data science is a bit like magic. If you know the right spells (Python commands) you can (try to) predict the future.'"
   ]
  },
  {
   "cell_type": "code",
   "execution_count": 4,
   "metadata": {
    "collapsed": false
   },
   "outputs": [
    {
     "name": "stdout",
     "output_type": "stream",
     "text": [
      "<type 'list'>\n",
      "<type 'list'>\n",
      "Sentence Tokens:  ['Data science is a bit like magic.', 'If you know the right spells (Python commands) you can (try to) predict the future.']\n",
      "Word Tokens:  ['Data', 'science', 'is', 'a', 'bit', 'like', 'magic', '.', 'If', 'you', 'know', 'the', 'right', 'spells', '(', 'Python', 'commands', ')', 'you', 'can', '(', 'try', 'to', ')', 'predict', 'the', 'future', '.']\n"
     ]
    }
   ],
   "source": [
    "# Text mining comes with it's own vocabulary. \n",
    "# Notice that in the above we have a single variable which is really just a long vector of characters. \n",
    "# We know that it contains words. But Python doesn't. \n",
    "# We typically want to break a continuous stream of characters into words. This is called 'Tokenization'\n",
    "#      https://en.wikipedia.org/wiki/Tokenization_(lexical_analysis)\n",
    "\n",
    "# Lets 'tokenize' our sentence. We can do that in different ways. \n",
    "sentence_tokens = nltk.sent_tokenize(sentences)\n",
    "word_tokens = nltk.word_tokenize(sentences)\n",
    "\n",
    "# Let's have a look at the results. In both cases we get a list of tokens out. \n",
    "# The difference is how we split up our data. We can tokenize into sentences, or into words\n",
    "print type(sentence_tokens)\n",
    "print type(word_tokens)\n",
    "print 'Sentence Tokens: ', sentence_tokens\n",
    "print 'Word Tokens: ', word_tokens"
   ]
  },
  {
   "cell_type": "code",
   "execution_count": 5,
   "metadata": {
    "collapsed": false
   },
   "outputs": [
    {
     "name": "stdout",
     "output_type": "stream",
     "text": [
      "[('Data', 'NNP'), ('science', 'NN'), ('is', 'VBZ'), ('a', 'DT'), ('bit', 'NN'), ('like', 'IN'), ('magic', 'JJ'), ('.', '.')]\n"
     ]
    }
   ],
   "source": [
    "# Once we tokenize, we can start trying to figure out what kinds of words we have. \n",
    "# This is called 'Part of Speech' tagging. - https://en.wikipedia.org/wiki/Part-of-speech_tagging\n",
    "# That is we can try to label our tokens in terms of what part of the sentence they represent.\n",
    "tagged = nltk.pos_tag(word_tokens)\n",
    "print tagged[0:8]"
   ]
  },
  {
   "cell_type": "markdown",
   "metadata": {},
   "source": [
    "What we've done here is label each word with it's 'type'\n",
    "For example:\n",
    "    'NNP' is 'Noun Proper Singular\n",
    "    'NN' is 'Noun, common, singular or mass'\n",
    "    'VBZ' IS 'Verb, present tense'\n",
    "\n",
    "Although not perfect, this allows us to classify all the words into a given text into the type of words we have. \n",
    "We can then start asking questions, for example:\n",
    "    - Do different cultural groups (same language) use different proportions of nouns, verbs and adjectives?\n",
    "    - If we take just the adjectives from presidential speech, and run sentiment analysis, are they positive or negative?\n",
    "    - Do popular authors use different vocabularies from unsuccessful authors? Different how?"
   ]
  },
  {
   "cell_type": "code",
   "execution_count": 6,
   "metadata": {
    "collapsed": false
   },
   "outputs": [
    {
     "name": "stdout",
     "output_type": "stream",
     "text": [
      "DT: determiner\n",
      "    all an another any both del each either every half la many much nary\n",
      "    neither no some such that the them these this those\n",
      "None\n",
      "IN: preposition or conjunction, subordinating\n",
      "    astride among uppon whether out inside pro despite on by throughout\n",
      "    below within for towards near behind atop around if like until below\n",
      "    next into if beside ...\n",
      "None\n"
     ]
    }
   ],
   "source": [
    "# Note that this data already takes a fair amount of linguistic knowledge to interpret. \n",
    "# Luckily, we don't have to memorize the tag labels. \n",
    "# Currently we are using the Penn tagset, and we can ask what each tag means\n",
    "print nltk.help.upenn_tagset('DT')\n",
    "print nltk.help.upenn_tagset('IN')\n",
    "\n",
    "# Running this command with no argument gives a list of all the tag labels used. \n",
    "#print nltk.help.upenn_tagset()"
   ]
  },
  {
   "cell_type": "code",
   "execution_count": 55,
   "metadata": {
    "collapsed": false
   },
   "outputs": [
    {
     "name": "stdout",
     "output_type": "stream",
     "text": [
      "<class 'nltk.text.Text'>\n",
      "Monty Python and the Holy Grail\n"
     ]
    }
   ],
   "source": [
    "# Let's start having a quick look at one of the texts that comes with the nltk book. \n",
    "\n",
    "# Lets look at text 6. These texts are stored as a 'Text' class. \n",
    "print type(text6)\n",
    "print text6.name"
   ]
  },
  {
   "cell_type": "code",
   "execution_count": 190,
   "metadata": {
    "collapsed": false
   },
   "outputs": [
    {
     "name": "stdout",
     "output_type": "stream",
     "text": [
      "Count of the word 'knight': \n",
      "5 \n",
      "\n",
      "Words that tend to co-occur: \n",
      "BLACK KNIGHT; clop clop; HEAD KNIGHT; mumble mumble; Holy Grail;\n",
      "squeak squeak; FRENCH GUARD; saw saw; Sir Robin; Run away; CARTOON\n",
      "CHARACTER; King Arthur; Iesu domine; Pie Iesu; DEAD PERSON; Round\n",
      "Table; clap clap; OLD MAN; dramatic chord; dona eis\n",
      "\n",
      "\n",
      "Words in context: \n",
      "Displaying 1 of 1 matches:\n",
      " you who are so wise in the ways of science ? ARTHUR : I am Arthur , King of th\n",
      "\n",
      "\n",
      "Tokens from the text: \n",
      "[u'SCENE', u'1', u':', u'[', u'wind'] \n",
      "\n",
      "Sorted tokens from the text: \n",
      "[u'!', u'!', u'!', u'!', u'!']\n"
     ]
    }
   ],
   "source": [
    "# Let's have a look at a couple asp\n",
    "\n",
    "# We can count how often a particular word occurs\n",
    "print 'Count of the word \\'knight\\': '\n",
    "print text6.count('knight'), '\\n'\n",
    "\n",
    "# We can ask what words tend to occur together\n",
    "print 'Words that tend to co-occur: '\n",
    "text6.collocations()\n",
    "print '\\n'\n",
    "\n",
    "# We can also print out the context in which a word is used\n",
    "print 'Words in context: '\n",
    "text6.concordance('science')\n",
    "print '\\n'\n",
    "\n",
    "# The text class already has the text tokenized for us. \n",
    "print 'Tokens from the text: '\n",
    "print text6.tokens[0:5], '\\n'\n",
    "\n",
    "# And we can sort our list of tokens if we want as well\n",
    "print 'Sorted tokens from the text: '\n",
    "print sorted(text6.tokens)[0:5]"
   ]
  },
  {
   "cell_type": "code",
   "execution_count": 177,
   "metadata": {
    "collapsed": false
   },
   "outputs": [
    {
     "name": "stdout",
     "output_type": "stream",
     "text": [
      "Most Common Tokens in Holy Grail: \n",
      "[(u':', 1197), (u'.', 816), (u'!', 801), (u',', 731), (u\"'\", 421), (u'[', 319), (u']', 312), (u'the', 299), (u'I', 255), (u'ARTHUR', 225), (u'?', 207), (u'you', 204), (u'a', 188), (u'of', 158), (u'--', 148), (u'to', 144), (u's', 141), (u'and', 135), (u'#', 127), (u'...', 118)] \n",
      "\n"
     ]
    },
    {
     "data": {
      "image/png": "[encoded data removed]",
      "text/plain": [
       "<matplotlib.figure.Figure at 0x1186e5d50>"
      ]
     },
     "metadata": {},
     "output_type": "display_data"
    }
   ],
   "source": [
    "# We can take a Frequency Distribution of the \n",
    "monty_freq_dist = nltk.FreqDist(text6)\n",
    "\n",
    "# Print out a list of the most common words\n",
    "print 'Most Common Tokens in Holy Grail: '\n",
    "print monty_freq_dist.most_common(20), '\\n'\n",
    "\n",
    "# Plot the first 20 items of the Frequency Distribution\n",
    "monty_freq_dist.plot(20)"
   ]
  },
  {
   "cell_type": "markdown",
   "metadata": {},
   "source": [
    "#### Data Cleaning / Stopwords"
   ]
  },
  {
   "cell_type": "markdown",
   "metadata": {},
   "source": [
    "What we see immediately is that this is not at all helpful. All we see are punctuation, and uninformative words like 'a' and 'the'. \n",
    "\n",
    "Not all words are equal in text analysis. Some words, like 'the' don't really convey any meaning, and we want to ignore them. \n",
    "We call the uninteresting words 'stopwords'. \n",
    "\n",
    "We need to clean our data to get rid of all the stopwords and punctuation. Luckily nltk has tools to do this. We are going to import their list of stopwords, compare this list to our text, and only keep words from our text if the words do not appear in our list of stopwords. \n",
    "\n",
    "Note: there are other ways to tokenize that wouldn't include punctuation in the first place. In practice, one may want to tokenize differently, rather than keep punctuation and then have to work to remove them later. \n"
   ]
  },
  {
   "cell_type": "code",
   "execution_count": 161,
   "metadata": {
    "collapsed": false
   },
   "outputs": [],
   "source": [
    "# Import the list of stopwords from nltk\n",
    "from nltk.corpus import stopwords"
   ]
  },
  {
   "cell_type": "code",
   "execution_count": 171,
   "metadata": {
    "collapsed": false
   },
   "outputs": [],
   "source": [
    "# Let's clean our data\n",
    "\n",
    "# Loop through our text, only keeping words that are not a stopword\n",
    "# Initialize a new list to keep our good data\n",
    "words_stop_removed = list()\n",
    "# Loop through our tokenized text\n",
    "for word in text6.tokens:\n",
    "    # If the word is not in our stopword list, add it to our cleaned list\n",
    "    # Note that we are forcing everything to be lowercase so that 'The' and 'the' are treated the same\n",
    "    if word.lower() not in stopwords.words('english'):\n",
    "        words_stop_removed.append(word.lower())\n",
    "\n",
    "# Loop through our words, only keeping words that are longer than 3 characters (to remove punctuation)\n",
    "# Intialize a new list to keep our final cleaned data\n",
    "words_stop_punc_removerd = list()\n",
    "# Loop through our stopword cleaned data\n",
    "for word in words_stop_removed:\n",
    "    # If the word is longer than 3 characters, add it to our list of cleaned words\n",
    "    if (len(word) > 3):\n",
    "        words_stop_punc_removerd.append(word)\n",
    "\n",
    "# If the above feels like a lot of code to do what we wanted, it is. \n",
    "# There is a much shorter (in terms of lines of code) way to do it. \n",
    "# However, it is much harder to read what the code does. \n",
    "# Remember, writing readable code is really important! \n",
    "# For shareable code, that others can read, the above approach is better. \n",
    "# That being said, this line does the same as the above block of code:\n",
    "filtered_words = [w.lower() for w in text6.tokens if ((not w.lower() in stopwords.words('english')) & (len(w) > 3))]"
   ]
  },
  {
   "cell_type": "code",
   "execution_count": 176,
   "metadata": {
    "collapsed": false
   },
   "outputs": [
    {
     "name": "stdout",
     "output_type": "stream",
     "text": [
      "Most Common Tokens in Holy Grail: \n",
      "[(u'arthur', 261), (u'launcelot', 101), (u'knight', 84), (u'galahad', 80), (u'father', 75), (u'bedevere', 67), (u'knights', 65), (u'well', 62), (u'head', 59), (u'robin', 58), (u'right', 55), (u'guard', 55), (u'villager', 47), (u'boom', 45), (u'come', 44), (u'witch', 41), (u'away', 39), (u'clop', 39), (u'grail', 39), (u'king', 38)] \n",
      "\n"
     ]
    },
    {
     "data": {
      "image/png": "[encoded data removed]",
      "text/plain": [
       "<matplotlib.figure.Figure at 0x11810e6d0>"
      ]
     },
     "metadata": {},
     "output_type": "display_data"
    }
   ],
   "source": [
    "# Now we can try again with our Frequency Distribution analysis, on the cleaned data\n",
    "# Calculate Frequency Distribution on Cleaned Data\n",
    "filtered_monty_freq_dist = nltk.FreqDist(filtered_words)\n",
    "\n",
    "# Print out a list of the most common words\n",
    "print 'Most Common Tokens in Holy Grail: '\n",
    "print filtered_monty_freq_dist.most_common(20), '\\n'\n",
    "\n",
    "# Plot the first 20 items of the Frequency Distribution\n",
    "filtered_monty_freq_dist.plot(20, title=\"Most Common Words in Monty Python\")\n",
    "\n",
    "# This looks more like it! This is actually informative!\n",
    "# We can actually figure out something about this text from this list\n",
    "# Note that this text is a movie script, which explains why names are so common\n",
    "#  Each line of dialogue starts with the character's name who says the line"
   ]
  },
  {
   "cell_type": "markdown",
   "metadata": {},
   "source": [
    "#### Wrapping Up"
   ]
  },
  {
   "cell_type": "markdown",
   "metadata": {},
   "source": [
    "In some ways, most of textual analysis really start after what we've done so far. \n",
    "\n",
    "Having a cleaned 'bag of words' is a starting point for analyzing and classifying texts. \n",
    "\n",
    "Or, we might tokenize texts (like tweets or reviews) into sentences and run sentiment analysis. \n",
    "\n",
    "We might try to use words in context to automatically interpret or translate texts. \n",
    "\n",
    "All of these things are huge areas of research, and too complicated to dive into here. Hopefully, what is here gives you a glimpse of what this type of analysis looks like, and if you are interested in further analyses, you can continue with the nltk book and/or research 'natural language processing' in general."
   ]
  }
 ],
 "metadata": {
  "kernelspec": {
   "display_name": "Python 2",
   "language": "python",
   "name": "python2"
  },
  "language_info": {
   "codemirror_mode": {
    "name": "ipython",
    "version": 2
   },
   "file_extension": ".py",
   "mimetype": "text/x-python",
   "name": "python",
   "nbconvert_exporter": "python",
   "pygments_lexer": "ipython2",
   "version": "2.7.11"
  }
 },
 "nbformat": 4,
 "nbformat_minor": 0
}
